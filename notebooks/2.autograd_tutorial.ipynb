{
  "cells": [
    {
      "cell_type": "markdown",
      "metadata": {
        "id": "view-in-github",
        "colab_type": "text"
      },
      "source": [
        "<a href=\"https://colab.research.google.com/github/nishanKhanal/tutorials-DL-with-pytorch-60-minutes-blitz/blob/master/notebooks/2.autograd_tutorial.ipynb\" target=\"_parent\"><img src=\"https://colab.research.google.com/assets/colab-badge.svg\" alt=\"Open In Colab\"/></a>"
      ]
    },
    {
      "cell_type": "code",
      "execution_count": 2,
      "metadata": {
        "id": "CPRudxBowG1_"
      },
      "outputs": [],
      "source": [
        "# For tips on running notebooks in Google Colab, see\n",
        "# https://pytorch.org/tutorials/beginner/colab\n",
        "%matplotlib inline"
      ]
    },
    {
      "cell_type": "markdown",
      "metadata": {
        "id": "lZi9ksamwG2B"
      },
      "source": [
        "A Gentle Introduction to `torch.autograd`\n",
        "=========================================\n",
        "\n",
        "`torch.autograd` is PyTorch's automatic differentiation engine that\n",
        "powers neural network training. In this section, you will get a\n",
        "conceptual understanding of how autograd helps a neural network train.\n",
        "\n",
        "Background\n",
        "----------\n",
        "\n",
        "Neural networks (NNs) are a collection of nested functions that are\n",
        "executed on some input data. These functions are defined by *parameters*\n",
        "(consisting of weights and biases), which in PyTorch are stored in\n",
        "tensors.\n",
        "\n",
        "Training a NN happens in two steps:\n",
        "\n",
        "**Forward Propagation**: In forward prop, the NN makes its best guess\n",
        "about the correct output. It runs the input data through each of its\n",
        "functions to make this guess.\n",
        "\n",
        "**Backward Propagation**: In backprop, the NN adjusts its parameters\n",
        "proportionate to the error in its guess. It does this by traversing\n",
        "backwards from the output, collecting the derivatives of the error with\n",
        "respect to the parameters of the functions (*gradients*), and optimizing\n",
        "the parameters using gradient descent. For a more detailed walkthrough\n",
        "of backprop, check out this [video from\n",
        "3Blue1Brown](https://www.youtube.com/watch?v=tIeHLnjs5U8).\n",
        "\n",
        "Usage in PyTorch\n",
        "----------------\n",
        "\n",
        "Let\\'s take a look at a single training step. For this example, we load\n",
        "a pretrained resnet18 model from `torchvision`. We create a random data\n",
        "tensor to represent a single image with 3 channels, and height & width\n",
        "of 64, and its corresponding `label` initialized to some random values.\n",
        "Label in pretrained models has shape (1,1000).\n",
        "\n",
        "<div style=\"background-color: #54c7ec; color: #fff; font-weight: 700; padding-left: 10px; padding-top: 5px; padding-bottom: 5px\"><strong>NOTE:</strong></div>\n",
        "\n",
        "<div style=\"background-color: #f3f4f7; padding-left: 10px; padding-top: 10px; padding-bottom: 10px; padding-right: 10px\">\n",
        "\n",
        "<p>This tutorial works only on the CPU and will not work on GPU devices (even if tensors are moved to CUDA).</p>\n",
        "\n",
        "</div>\n",
        "\n"
      ]
    },
    {
      "cell_type": "code",
      "execution_count": 3,
      "metadata": {
        "id": "WJh4R_AJwG2D",
        "outputId": "a3798ae8-57b7-4931-a9f6-8b5c3b9a4bb0",
        "colab": {
          "base_uri": "https://localhost:8080/"
        }
      },
      "outputs": [
        {
          "output_type": "stream",
          "name": "stderr",
          "text": [
            "Downloading: \"https://download.pytorch.org/models/resnet18-f37072fd.pth\" to /root/.cache/torch/hub/checkpoints/resnet18-f37072fd.pth\n",
            "100%|██████████| 44.7M/44.7M [00:00<00:00, 57.8MB/s]\n"
          ]
        }
      ],
      "source": [
        "import torch\n",
        "from torchvision.models import resnet18, ResNet18_Weights\n",
        "model = resnet18(weights=ResNet18_Weights.DEFAULT)\n",
        "data = torch.rand(1, 3, 64, 64)\n",
        "labels = torch.rand(1, 1000)"
      ]
    },
    {
      "cell_type": "markdown",
      "metadata": {
        "id": "BPne2oPZwG2E"
      },
      "source": [
        "Next, we run the input data through the model through each of its layers\n",
        "to make a prediction. This is the **forward pass**.\n"
      ]
    },
    {
      "cell_type": "code",
      "execution_count": 36,
      "metadata": {
        "id": "muwaZMs2wG2E",
        "outputId": "a27b6acb-4228-4a05-d907-6a9bb37822cf",
        "colab": {
          "base_uri": "https://localhost:8080/"
        }
      },
      "outputs": [
        {
          "output_type": "execute_result",
          "data": {
            "text/plain": [
              "tensor([[-9.9745e-01, -4.7068e-01, -2.4177e-01, -1.5246e+00, -4.5326e-01,\n",
              "         -6.5952e-02, -3.4166e-01,  8.4148e-01,  4.8478e-01, -8.2504e-01,\n",
              "         -1.2762e+00, -8.1917e-01, -3.6251e-01, -1.1407e+00, -1.2056e+00,\n",
              "         -9.6083e-01, -5.4873e-01, -1.0849e-01, -6.8846e-01, -6.4339e-01,\n",
              "         -1.4838e+00, -7.2164e-01, -1.1225e+00,  4.3804e-01, -8.8711e-01,\n",
              "         -1.2640e+00, -1.2672e+00, -1.5757e+00, -1.1413e+00, -2.8177e-01,\n",
              "         -1.1700e+00, -1.1945e+00, -8.3904e-01, -7.0959e-01, -2.3386e-01,\n",
              "         -6.1261e-01,  5.2704e-01, -7.3434e-01, -5.4625e-01, -1.4478e-01,\n",
              "         -7.4469e-01, -1.1308e+00, -1.0446e+00, -6.3096e-01, -8.7576e-01,\n",
              "         -4.3442e-01, -9.3497e-01, -6.0677e-01, -1.4001e+00, -9.9256e-01,\n",
              "         -4.9781e-01,  3.4224e-01, -9.9139e-01, -1.0146e+00, -4.6819e-01,\n",
              "         -1.5138e+00, -7.9688e-01, -1.9498e+00, -9.2202e-01, -7.6647e-01,\n",
              "          5.3410e-01, -2.3644e-01, -3.6426e-01, -2.9105e-01, -9.9513e-01,\n",
              "         -3.2542e-01, -5.4108e-01, -4.2292e-01, -9.7814e-01, -1.0321e+00,\n",
              "         -1.7532e+00,  2.0473e-01, -1.4285e+00, -3.9665e-01, -1.1987e+00,\n",
              "         -1.4399e+00, -2.2222e-01, -5.4852e-01, -2.0581e-02, -5.8070e-02,\n",
              "         -7.7128e-01, -1.6509e+00,  1.2547e-01, -5.1561e-01, -4.3454e-01,\n",
              "          3.1782e-01,  6.2699e-02,  2.4663e-01,  1.3991e-01, -5.8530e-01,\n",
              "         -1.1227e+00, -1.2051e+00, -1.7794e+00, -2.8342e-01,  3.4268e-01,\n",
              "         -2.1675e+00, -3.1403e-01, -4.4369e-01, -1.6807e+00, -2.3421e-01,\n",
              "         -1.0727e+00, -8.4015e-01, -9.1798e-01, -4.8532e-01, -3.6040e-01,\n",
              "         -9.9550e-01, -5.8077e-01, -1.1196e+00, -8.8083e-01, -1.5499e+00,\n",
              "         -7.7864e-01, -8.0168e-01,  1.3342e+00,  6.2972e-01,  4.4350e-01,\n",
              "         -6.0864e-01, -6.1268e-01, -2.3511e-01,  6.5596e-01, -3.5996e-01,\n",
              "         -9.2796e-01,  2.0044e-01,  3.6490e-01,  1.4697e-01,  8.2317e-01,\n",
              "          1.5829e-01,  3.0277e-01, -1.2020e+00, -9.7097e-01, -8.9666e-01,\n",
              "         -1.3009e+00, -1.2718e+00, -7.1729e-01, -1.2334e+00, -5.3477e-01,\n",
              "         -1.2009e+00, -9.1047e-01, -1.1342e+00, -1.2270e+00, -1.4991e+00,\n",
              "         -1.5700e+00, -1.4845e+00, -2.2381e+00, -1.6214e+00, -4.4945e-01,\n",
              "         -2.1688e-01, -8.4270e-01, -1.4728e+00, -1.1330e+00, -1.3020e+00,\n",
              "          1.5598e-01,  1.5333e+00, -1.0928e+00, -5.3190e-01,  1.6001e-01,\n",
              "          4.6411e-02, -3.6212e-01, -3.1384e-01, -6.6434e-03,  1.7488e-01,\n",
              "          6.5762e-01,  3.8880e-01, -1.0334e-01,  5.1349e-01,  1.5869e-01,\n",
              "         -3.4985e-01, -4.7278e-01, -7.2590e-01,  3.9053e-01, -3.7003e-01,\n",
              "         -2.0430e-01,  4.1231e-01,  2.5485e-01,  1.0253e-01, -1.5479e-01,\n",
              "         -8.5643e-01,  5.8821e-02, -1.8001e-01,  3.2807e-01,  6.0054e-01,\n",
              "          2.6699e-01, -6.9677e-02,  4.1305e-01,  3.5896e-01,  5.9058e-01,\n",
              "          5.0803e-01,  7.4940e-01,  1.8094e-01,  1.0687e-01,  7.2658e-01,\n",
              "         -4.4447e-01,  2.4397e-01,  5.1462e-01,  4.5188e-01, -7.5744e-01,\n",
              "          6.4684e-01,  2.5636e-01,  2.8481e-01,  2.9745e-01,  8.5386e-01,\n",
              "          5.0948e-02, -3.8236e-02,  7.4739e-01,  7.3002e-01,  5.5643e-02,\n",
              "          2.5967e-01, -9.5130e-02,  6.9067e-01,  1.2062e+00,  4.0276e-01,\n",
              "         -4.1063e-01,  1.8742e-01,  2.8167e-01,  2.8208e-02, -2.2056e-02,\n",
              "          8.5643e-02,  3.6414e-02,  1.8435e-01, -4.0679e-01,  6.8129e-01,\n",
              "          8.3734e-02, -6.1177e-02,  2.6347e-02,  7.4396e-01,  5.7109e-01,\n",
              "          4.3831e-01,  2.6826e-01,  6.7022e-01, -3.0832e-01, -2.5577e-01,\n",
              "         -9.3286e-02,  4.3720e-01,  2.9126e-01,  1.4626e-01,  7.1713e-01,\n",
              "          8.0403e-01,  4.8694e-01,  2.8105e-01,  8.1615e-01, -3.9016e-02,\n",
              "          5.3859e-01, -9.3297e-02,  6.3010e-01,  2.7829e-01, -3.6028e-01,\n",
              "          5.1356e-01,  4.3238e-01, -4.2140e-02,  7.9230e-01,  4.5225e-01,\n",
              "          6.1299e-01,  5.3226e-01, -8.6236e-01,  6.4133e-01,  9.6518e-01,\n",
              "         -5.3651e-01,  4.7112e-01,  3.4822e-01,  1.8938e-01,  3.8097e-01,\n",
              "          1.2852e-01, -4.7710e-01, -5.3403e-01,  2.3261e-01,  6.2602e-01,\n",
              "          7.4414e-01,  3.5552e-01,  6.7340e-01, -3.3695e-01, -5.2357e-01,\n",
              "         -8.8493e-01, -1.3098e+00, -6.5531e-01,  4.2531e-01, -1.2938e+00,\n",
              "         -1.0826e+00, -1.1490e+00, -8.9992e-01, -1.2979e+00, -6.9065e-01,\n",
              "         -5.2659e-01,  7.7445e-01,  7.0456e-01, -5.7201e-04,  2.5558e-01,\n",
              "          5.3809e-01, -4.7726e-01, -2.3227e-01, -8.8404e-01, -1.7399e+00,\n",
              "         -1.1784e+00, -1.4204e+00, -3.3663e-01, -1.0215e+00, -7.8633e-01,\n",
              "         -6.5345e-01, -6.6290e-01, -1.2153e+00, -7.7817e-01, -3.6202e-01,\n",
              "         -1.6979e+00, -6.8185e-01, -2.4247e-01, -4.2556e-01, -1.0257e+00,\n",
              "         -7.2012e-01,  1.0675e-01, -6.8468e-01, -1.0833e+00, -1.6564e-02,\n",
              "          4.4914e-01, -2.1620e-01, -3.9507e-01, -6.5980e-02,  7.7715e-01,\n",
              "         -3.5753e-01, -1.0100e+00, -1.1164e+00, -9.3942e-01, -5.9898e-01,\n",
              "         -1.5477e+00, -9.2136e-01, -1.3868e+00, -1.5719e+00, -1.2903e+00,\n",
              "         -1.6742e+00, -1.1819e+00,  2.7077e-01, -5.2260e-02, -2.1875e-01,\n",
              "         -1.0936e-01, -3.7530e-01,  1.7089e-02,  2.4049e-01, -6.5732e-01,\n",
              "         -1.2849e+00, -1.5154e+00,  6.5100e-02,  3.6137e-01, -1.0595e+00,\n",
              "         -5.5998e-01,  4.4865e-01, -5.1167e-01, -1.5211e+00, -8.3014e-01,\n",
              "          7.3167e-01, -7.1650e-01, -1.2649e+00,  6.0168e-02, -1.2643e+00,\n",
              "         -1.4441e+00, -2.2337e+00, -1.2067e+00, -8.5866e-01, -5.6312e-01,\n",
              "          4.6982e-01,  1.1392e+00,  5.3056e-02,  5.5223e-01,  4.9149e-01,\n",
              "         -1.3781e-01,  4.4342e-01, -1.2699e-03,  1.3404e-01, -3.8590e-01,\n",
              "         -6.4929e-01, -1.0462e+00, -3.7241e-01, -6.7175e-01, -6.0349e-01,\n",
              "         -8.7961e-01, -6.2190e-01, -3.7400e-01, -5.5694e-02, -2.4479e-01,\n",
              "         -1.0882e+00, -1.4313e+00,  5.1277e-02, -3.5294e-01, -7.5274e-01,\n",
              "          1.2198e-01, -5.6325e-01, -5.4053e-01, -9.7155e-01, -9.9795e-01,\n",
              "         -4.3192e-01, -9.1088e-01, -1.2254e+00, -9.5731e-01, -4.7498e-01,\n",
              "          2.8355e-01,  7.2324e-02, -1.2851e+00, -1.3560e+00, -1.3039e-01,\n",
              "          4.2323e-01, -1.0935e+00, -5.2761e-01,  2.2910e-01,  3.3050e-01,\n",
              "         -5.8838e-01,  8.1257e-01,  2.4412e-01, -2.0433e+00, -2.0556e+00,\n",
              "         -4.1960e-01,  1.1500e-01, -8.8755e-02, -3.4185e-02,  1.0911e+00,\n",
              "         -2.8999e-01,  5.2370e-01,  2.1967e+00,  8.5259e-01,  6.2698e-01,\n",
              "          9.2575e-01, -7.1760e-02,  4.7368e-01,  2.7731e-01,  8.2769e-01,\n",
              "          1.0209e+00,  1.2270e+00,  5.5026e-02,  4.5980e-01,  2.9119e-01,\n",
              "         -7.9656e-01,  3.0519e-02,  1.4466e+00,  1.5893e+00,  5.8397e-01,\n",
              "         -9.1404e-01, -1.6181e-01,  1.2225e-01,  4.4518e-01,  6.2660e-01,\n",
              "          9.0852e-01, -4.6876e-01, -4.5378e-01,  3.5517e-01,  5.1095e-01,\n",
              "          8.7355e-01,  5.2154e-01,  5.2452e-01, -4.6175e-01,  8.1803e-03,\n",
              "          1.6047e-01,  5.2103e-01,  1.3423e+00,  9.1332e-01, -6.4357e-01,\n",
              "         -7.4582e-02,  1.5339e-01,  5.2160e-01,  7.7054e-02, -1.4217e-01,\n",
              "          3.1316e-01,  1.7022e+00,  1.1790e+00, -5.2841e-02,  8.3839e-01,\n",
              "         -5.7967e-01,  7.6021e-01,  1.7617e+00,  2.5912e+00,  8.9775e-01,\n",
              "         -1.0210e-01, -1.3821e+00, -2.3160e-01,  4.7802e-02,  1.3029e+00,\n",
              "          1.0410e+00,  6.5801e-01,  3.6970e-01,  9.9085e-01, -2.0617e-01,\n",
              "          3.2630e-01, -2.4081e-02,  5.3099e-01,  8.2073e-01,  4.4370e-01,\n",
              "          3.7395e-01,  9.1805e-02,  1.5649e-01, -7.8601e-01, -1.2682e+00,\n",
              "         -4.7530e-01, -2.2701e-01,  1.0228e+00,  1.5233e+00,  1.0503e+00,\n",
              "          4.4978e-01,  1.2948e+00,  7.5170e-01, -1.2756e+00,  1.5411e+00,\n",
              "         -8.0187e-01,  4.6409e-01, -1.2757e-01, -4.9524e-02,  1.3223e+00,\n",
              "         -1.3831e+00,  8.0524e-01,  1.2375e+00,  4.8595e-01,  9.3561e-01,\n",
              "          1.2042e+00,  8.3226e-01,  5.6708e-01,  6.4435e-01,  4.1102e-01,\n",
              "         -1.2952e+00, -8.8419e-01,  1.0108e+00,  3.5241e-01,  1.0677e+00,\n",
              "          1.7823e+00,  4.3840e-01,  2.1753e-02,  1.3580e+00,  4.8915e-01,\n",
              "         -7.6360e-01,  3.2053e-01,  6.3922e-01,  1.6613e+00,  5.0846e-01,\n",
              "         -7.5443e-01, -8.5697e-03, -2.6772e-01,  6.4206e-02, -1.7792e-01,\n",
              "          1.0006e+00,  8.1187e-02,  5.2114e-02, -6.8317e-01,  7.4362e-01,\n",
              "         -6.6180e-01, -6.0801e-01, -3.5789e-01,  9.4032e-03,  1.5842e+00,\n",
              "         -1.2234e+00,  1.6034e+00,  1.1784e+00,  8.4467e-01,  6.5066e-01,\n",
              "          8.0099e-01,  8.1066e-01, -1.8603e+00, -1.1265e+00,  2.1086e-01,\n",
              "         -3.0490e-01, -1.7018e-01,  8.5075e-01, -2.5717e-01, -1.1336e+00,\n",
              "         -3.9292e-01,  4.4454e-01,  4.2421e-01,  1.1360e+00,  9.1705e-01,\n",
              "         -2.3171e-01, -5.9798e-02,  1.0469e+00,  2.5926e-03, -1.2338e+00,\n",
              "         -8.2585e-01,  1.0751e-01,  9.9248e-01,  7.5214e-01, -6.2006e-01,\n",
              "          9.3666e-01,  2.1649e-01,  8.6396e-01, -5.1496e-01,  2.3239e-01,\n",
              "          1.4415e-01, -7.4783e-01,  1.2199e+00,  7.1091e-01,  2.8068e-01,\n",
              "          3.2893e-01, -1.1186e-01,  7.5645e-01,  7.6917e-01,  7.2849e-01,\n",
              "          9.1217e-01, -1.6972e-01,  1.7852e+00,  1.0281e+00,  7.7056e-01,\n",
              "         -7.5712e-01,  6.9340e-01, -7.4080e-01,  8.4244e-01,  2.3842e-01,\n",
              "         -6.7965e-01,  1.4597e+00, -1.1053e-03, -2.4801e-01,  8.7925e-01,\n",
              "          1.9652e+00,  2.3362e-01,  3.1048e-01, -5.3382e-01,  2.9106e-01,\n",
              "         -3.5590e-02,  1.1932e+00, -3.3358e-01,  5.8746e-01, -1.7279e-01,\n",
              "          1.0239e+00,  3.5728e-01, -4.0499e-01,  4.3784e-01,  2.9028e-01,\n",
              "          3.5294e-01,  9.5480e-01,  3.3305e-01,  1.9459e+00,  1.1313e+00,\n",
              "          1.1704e+00,  6.2971e-01,  9.4648e-02,  5.5654e-01,  1.6251e-01,\n",
              "         -1.0726e+00,  1.0879e+00, -2.2017e-01, -1.0694e+00,  1.3638e-02,\n",
              "         -5.5937e-02,  8.8631e-01,  8.1718e-01,  1.1153e+00, -3.6621e-01,\n",
              "          1.2912e-01,  1.4469e+00,  7.1355e-01,  8.1488e-01,  4.0057e-01,\n",
              "         -1.6945e+00,  9.0282e-01,  1.7432e-01,  1.4473e+00,  7.6726e-01,\n",
              "         -7.8928e-01,  5.7523e-01,  2.6506e-01, -3.8744e-01, -1.7450e+00,\n",
              "          8.3818e-01,  4.6491e-01,  4.2778e-01,  6.0993e-01, -8.7507e-02,\n",
              "          6.9565e-01,  3.2601e-02,  3.0616e-01,  1.5679e-01,  3.9052e-01,\n",
              "         -1.3071e-01, -9.7382e-01, -5.3083e-02, -7.4441e-01,  1.0611e+00,\n",
              "          2.0020e-01,  1.0627e+00,  7.7372e-01, -1.1124e+00, -6.1685e-01,\n",
              "          4.9833e-01, -1.5764e-01, -1.8852e-01,  6.1678e-01,  1.4353e+00,\n",
              "         -7.7321e-01,  1.4674e+00,  7.9551e-01,  1.1029e+00,  2.6871e-01,\n",
              "          2.8979e-01,  8.6109e-01, -5.1777e-01,  5.6164e-01,  4.6482e-01,\n",
              "         -1.2759e+00, -2.1151e-01, -1.1797e+00, -5.1244e-01, -4.4823e-01,\n",
              "         -2.5773e-01,  2.8079e-01,  8.1236e-01,  9.3473e-01, -1.0035e+00,\n",
              "          1.0844e+00,  1.6702e+00, -3.6639e-02, -3.5624e-01,  7.8274e-01,\n",
              "          2.0720e+00, -1.4588e-02,  4.6464e-01,  5.0809e-01,  6.1855e-01,\n",
              "         -1.4278e-01, -4.7607e-01,  4.6686e-01,  8.2289e-01,  2.1538e-01,\n",
              "          1.0357e+00,  1.0082e+00, -1.4416e-01, -2.2350e-01,  4.0790e-01,\n",
              "         -3.4046e-01,  7.7710e-01, -5.7021e-01, -4.8515e-01,  3.3931e-01,\n",
              "         -3.4068e-02,  2.4305e-01,  1.2472e+00,  4.3796e-01, -5.9312e-01,\n",
              "          1.1100e+00, -9.0746e-01, -4.7994e-02,  1.5702e+00, -4.2085e-01,\n",
              "         -7.5004e-02,  2.5602e+00, -5.5913e-01,  1.9334e+00, -1.6091e+00,\n",
              "          2.6560e-01,  1.5559e-02,  6.3748e-01,  1.0554e+00, -1.4989e-02,\n",
              "          1.0059e+00, -1.1520e-01,  5.8205e-01,  1.8133e-01,  8.2651e-01,\n",
              "         -5.0215e-02,  2.1174e-01,  1.2423e+00,  9.0052e-01,  1.5089e+00,\n",
              "          2.8578e-01, -1.5665e-01,  1.3895e-01,  5.9971e-01,  6.4982e-01,\n",
              "         -4.9925e-01,  9.6217e-01, -1.0468e-01,  1.2305e+00, -1.3953e-01,\n",
              "          3.5718e-01,  6.6626e-01,  6.0501e-01,  8.8899e-01,  1.4432e+00,\n",
              "          7.8068e-01,  6.0709e-01,  6.9551e-01, -3.3170e-02,  1.4033e+00,\n",
              "          3.7606e-01,  5.2912e-01,  1.3247e+00,  3.5018e-01,  6.7791e-01,\n",
              "          7.4843e-01,  5.5417e-01,  8.0768e-01,  1.5579e+00, -8.5423e-01,\n",
              "         -9.8743e-01, -8.0459e-01,  1.2478e+00,  7.5291e-01,  1.5773e+00,\n",
              "          5.5311e-01,  6.6884e-01,  1.5459e+00,  2.5669e-01, -5.8015e-02,\n",
              "          7.5589e-01,  1.2214e+00,  1.9066e+00,  5.7057e-01,  1.9441e-01,\n",
              "          6.9455e-01,  8.0806e-01,  8.4148e-01, -7.6539e-01,  5.7430e-01,\n",
              "         -6.5391e-01,  4.5394e-01, -9.3097e-01, -1.1031e+00,  1.2298e+00,\n",
              "          1.0748e+00,  1.0270e-01,  6.8727e-02,  1.4694e+00, -1.6907e-01,\n",
              "         -2.3741e-01,  1.0472e+00, -4.0903e-01,  1.8574e+00, -1.0652e+00,\n",
              "         -9.2176e-02,  1.5754e-01, -1.2797e+00,  1.9233e+00,  6.5619e-01,\n",
              "         -1.4599e+00, -1.1138e+00,  3.6505e-01,  3.3193e-01,  9.9467e-01,\n",
              "         -9.2214e-01, -5.7406e-02,  1.0509e+00,  1.1553e+00, -4.0251e-01,\n",
              "          1.1821e+00,  4.8382e-01, -4.3169e-01, -6.6620e-01,  2.6656e-02,\n",
              "          3.1451e-01,  1.6294e+00,  1.6089e+00,  9.3240e-01, -4.5990e-01,\n",
              "          1.9008e+00,  4.1628e-01,  2.6626e-01,  1.0143e+00,  6.6888e-01,\n",
              "          1.7576e+00,  7.9053e-01, -2.9087e-01,  3.9078e-01,  9.5476e-01,\n",
              "          1.1967e+00,  1.6565e+00,  1.7129e+00, -1.8686e-01, -9.1615e-02,\n",
              "          7.1895e-01, -6.0369e-01, -1.0801e-01, -3.2805e-01,  1.0891e+00,\n",
              "          4.0710e-02,  1.3173e+00,  9.3341e-01, -2.6482e-01, -3.3606e-01,\n",
              "          7.4288e-01, -2.3623e-02, -2.8849e-01,  1.4590e+00, -2.4905e-01,\n",
              "          1.0083e+00, -1.4937e+00,  1.1083e+00, -9.5903e-01, -2.3495e+00,\n",
              "          4.8934e-01,  1.4626e+00, -1.6280e-01, -7.1761e-02,  1.6553e+00,\n",
              "          1.2064e+00, -3.2965e-01,  1.0416e+00,  1.1067e+00,  3.9899e-02,\n",
              "          3.5713e-01, -9.8516e-02,  1.8975e-01, -1.0311e+00,  7.6604e-02,\n",
              "         -1.7995e-01,  1.1124e-01,  7.3510e-01,  1.8962e-01, -5.8886e-01,\n",
              "         -6.8062e-01,  1.1808e+00,  8.3863e-01,  2.0456e+00,  1.9795e+00,\n",
              "         -1.1223e+00, -6.1444e-01,  1.6108e+00,  1.1241e+00,  9.7507e-01,\n",
              "          1.0125e-01, -6.7757e-01,  1.2699e+00, -1.1072e+00,  1.2013e+00,\n",
              "          1.1403e+00,  9.6440e-01,  5.7072e-01, -3.3327e-01, -1.7118e+00,\n",
              "         -4.6059e-01,  1.7509e-01,  3.8871e-01,  2.7025e-01,  3.0608e-01,\n",
              "         -3.1878e-02,  9.5108e-01, -6.9580e-01,  4.9194e-01, -4.7105e-01,\n",
              "         -1.1300e+00, -1.3505e+00, -6.1259e-01, -2.1672e-01,  1.4724e+00,\n",
              "         -4.6291e-01, -6.0712e-02,  2.4763e-01, -1.7203e+00, -4.3929e-02,\n",
              "         -6.3924e-01,  3.4718e-01,  3.8233e-01, -1.1889e-01,  2.3977e-01,\n",
              "         -3.1655e-01, -8.1343e-01, -4.8342e-01,  3.8636e-01, -6.7421e-01,\n",
              "         -5.1486e-01, -1.2851e+00,  3.4506e-01,  5.5922e-01, -4.2203e-01,\n",
              "         -1.9906e-01, -7.9791e-01, -7.3925e-01,  1.4442e-01,  7.5799e-01,\n",
              "         -6.2540e-01, -5.4333e-01, -9.0434e-01, -8.1109e-02, -1.2470e+00,\n",
              "         -1.2577e-02,  2.5455e-01, -5.1768e-01, -7.9997e-01, -1.3309e+00,\n",
              "         -2.3616e-01,  4.9976e-01, -7.9425e-01,  7.4288e-01, -1.9825e-01,\n",
              "         -3.5709e-01,  1.4604e+00, -2.4226e-01, -2.7109e-01, -1.9164e+00,\n",
              "          8.1501e-01, -1.8303e+00,  4.4502e-01, -6.0929e-02, -8.8599e-01,\n",
              "         -3.5185e-01,  1.1575e-01,  6.5658e-01, -4.2936e-01, -8.8972e-01,\n",
              "         -1.2060e+00, -2.2338e+00,  1.1818e+00, -3.7417e-01, -8.1843e-01,\n",
              "         -6.0631e-01, -1.1757e+00, -1.0128e+00, -2.0719e+00, -8.1313e-01,\n",
              "         -6.8579e-01, -8.6578e-03, -7.0383e-01,  1.2916e+00,  1.3072e+00]],\n",
              "       grad_fn=<AddmmBackward0>)"
            ]
          },
          "metadata": {},
          "execution_count": 36
        }
      ],
      "source": [
        "prediction = model(data) # forward pass\n",
        "prediction"
      ]
    },
    {
      "cell_type": "markdown",
      "metadata": {
        "id": "8LFaTXGMwG2F"
      },
      "source": [
        "We use the model\\'s prediction and the corresponding label to calculate\n",
        "the error (`loss`). The next step is to backpropagate this error through\n",
        "the network. Backward propagation is kicked off when we call\n",
        "`.backward()` on the error tensor. Autograd then calculates and stores\n",
        "the gradients for each model parameter in the parameter\\'s `.grad`\n",
        "attribute.\n"
      ]
    },
    {
      "cell_type": "code",
      "execution_count": 37,
      "metadata": {
        "id": "zLVQ0mRuwG2F"
      },
      "outputs": [],
      "source": [
        "loss = (prediction - labels).sum()\n",
        "loss.backward() # backward pass"
      ]
    },
    {
      "cell_type": "markdown",
      "metadata": {
        "id": "aZU8DOe5wG2G"
      },
      "source": [
        "Next, we load an optimizer, in this case SGD with a learning rate of\n",
        "0.01 and\n",
        "[momentum](https://towardsdatascience.com/stochastic-gradient-descent-with-momentum-a84097641a5d)\n",
        "of 0.9. We register all the parameters of the model in the optimizer.\n"
      ]
    },
    {
      "cell_type": "code",
      "execution_count": 39,
      "metadata": {
        "id": "hRRhCuZAwG2H"
      },
      "outputs": [],
      "source": [
        "optim = torch.optim.SGD(model.parameters(), lr=1e-2, momentum=0.9)"
      ]
    },
    {
      "cell_type": "markdown",
      "metadata": {
        "id": "WMICsKK6wG2H"
      },
      "source": [
        "Finally, we call `.step()` to initiate gradient descent. The optimizer\n",
        "adjusts each parameter by its gradient stored in `.grad`.\n"
      ]
    },
    {
      "cell_type": "code",
      "execution_count": 40,
      "metadata": {
        "id": "7gVS38PbwG2H"
      },
      "outputs": [],
      "source": [
        "optim.step() #gradient descent"
      ]
    },
    {
      "cell_type": "markdown",
      "metadata": {
        "id": "UNMSRKDowG2I"
      },
      "source": [
        "At this point, you have everything you need to train your neural\n",
        "network. The below sections detail the workings of autograd - feel free\n",
        "to skip them.\n"
      ]
    },
    {
      "cell_type": "markdown",
      "metadata": {
        "id": "lZ7Cb_WbwG2I"
      },
      "source": [
        "------------------------------------------------------------------------\n"
      ]
    },
    {
      "cell_type": "markdown",
      "metadata": {
        "id": "VDEtQS62wG2I"
      },
      "source": [
        "Differentiation in Autograd\n",
        "===========================\n",
        "\n",
        "Let\\'s take a look at how `autograd` collects gradients. We create two\n",
        "tensors `a` and `b` with `requires_grad=True`. This signals to\n",
        "`autograd` that every operation on them should be tracked.\n"
      ]
    },
    {
      "cell_type": "code",
      "execution_count": 55,
      "metadata": {
        "id": "yNoQ1j83wG2J"
      },
      "outputs": [],
      "source": [
        "import torch\n",
        "\n",
        "a = torch.tensor([2., 3.], requires_grad=True)\n",
        "b = torch.tensor([6., 4.], requires_grad=True)"
      ]
    },
    {
      "cell_type": "markdown",
      "metadata": {
        "id": "oCTSv3WWwG2J"
      },
      "source": [
        "We create another tensor `Q` from `a` and `b`.\n",
        "\n",
        "$$Q = 3a^3 - b^2$$\n"
      ]
    },
    {
      "cell_type": "code",
      "execution_count": 56,
      "metadata": {
        "id": "manbtDtNwG2J"
      },
      "outputs": [],
      "source": [
        "Q = 3*a**3 - b**2"
      ]
    },
    {
      "cell_type": "markdown",
      "metadata": {
        "id": "uiLp68bIwG2J"
      },
      "source": [
        "Let\\'s assume `a` and `b` to be parameters of an NN, and `Q` to be the\n",
        "error. In NN training, we want gradients of the error w.r.t. parameters,\n",
        "i.e.\n",
        "\n",
        "$$\\frac{\\partial Q}{\\partial a} = 9a^2$$\n",
        "\n",
        "$$\\frac{\\partial Q}{\\partial b} = -2b$$\n",
        "\n",
        "When we call `.backward()` on `Q`, autograd calculates these gradients\n",
        "and stores them in the respective tensors\\' `.grad` attribute.\n",
        "\n",
        "We need to explicitly pass a `gradient` argument in `Q.backward()`\n",
        "because it is a vector. `gradient` is a tensor of the same shape as `Q`,\n",
        "and it represents the gradient of Q w.r.t. itself, i.e.\n",
        "\n",
        "$$\\frac{dQ}{dQ} = 1$$\n",
        "\n",
        "Equivalently, we can also aggregate Q into a scalar and call backward\n",
        "implicitly, like `Q.sum().backward()`.\n"
      ]
    },
    {
      "cell_type": "code",
      "execution_count": 60,
      "metadata": {
        "id": "4K_GrUHzwG2K"
      },
      "outputs": [],
      "source": [
        "external_grad = torch.tensor([1., 1.])\n",
        "Q.sum().backward()"
      ]
    },
    {
      "cell_type": "markdown",
      "metadata": {
        "id": "h7FwRhS-wG2K"
      },
      "source": [
        "Gradients are now deposited in `a.grad` and `b.grad`\n"
      ]
    },
    {
      "cell_type": "code",
      "execution_count": 62,
      "metadata": {
        "id": "ZQ6j6fYvwG2K",
        "outputId": "d1c628fc-cb64-4d5e-ad64-95a31a0e0b0a",
        "colab": {
          "base_uri": "https://localhost:8080/"
        }
      },
      "outputs": [
        {
          "output_type": "stream",
          "name": "stdout",
          "text": [
            "tensor([True, True])\n",
            "tensor([True, True])\n"
          ]
        }
      ],
      "source": [
        "# check if collected gradients are correct\n",
        "print(9*a**2 == a.grad)\n",
        "print(-2*b == b.grad)"
      ]
    },
    {
      "cell_type": "markdown",
      "metadata": {
        "id": "aZ6WBx6GwG2L"
      },
      "source": [
        "Optional Reading - Vector Calculus using `autograd`\n",
        "===================================================\n",
        "\n",
        "Mathematically, if you have a vector valued function\n",
        "$\\vec{y}=f(\\vec{x})$, then the gradient of $\\vec{y}$ with respect to\n",
        "$\\vec{x}$ is a Jacobian matrix $J$:\n",
        "\n",
        "$$\\begin{aligned}\n",
        "J\n",
        "=\n",
        " \\left(\\begin{array}{cc}\n",
        " \\frac{\\partial \\bf{y}}{\\partial x_{1}} &\n",
        " ... &\n",
        " \\frac{\\partial \\bf{y}}{\\partial x_{n}}\n",
        " \\end{array}\\right)\n",
        "=\n",
        "\\left(\\begin{array}{ccc}\n",
        " \\frac{\\partial y_{1}}{\\partial x_{1}} & \\cdots & \\frac{\\partial y_{1}}{\\partial x_{n}}\\\\\n",
        " \\vdots & \\ddots & \\vdots\\\\\n",
        " \\frac{\\partial y_{m}}{\\partial x_{1}} & \\cdots & \\frac{\\partial y_{m}}{\\partial x_{n}}\n",
        " \\end{array}\\right)\n",
        "\\end{aligned}$$\n",
        "\n",
        "Generally speaking, `torch.autograd` is an engine for computing\n",
        "vector-Jacobian product. That is, given any vector $\\vec{v}$, compute\n",
        "the product $J^{T}\\cdot \\vec{v}$\n",
        "\n",
        "If $\\vec{v}$ happens to be the gradient of a scalar function\n",
        "$l=g\\left(\\vec{y}\\right)$:\n",
        "\n",
        "$$\\vec{v}\n",
        " =\n",
        " \\left(\\begin{array}{ccc}\\frac{\\partial l}{\\partial y_{1}} & \\cdots & \\frac{\\partial l}{\\partial y_{m}}\\end{array}\\right)^{T}$$\n",
        "\n",
        "then by the chain rule, the vector-Jacobian product would be the\n",
        "gradient of $l$ with respect to $\\vec{x}$:\n",
        "\n",
        "$$\\begin{aligned}\n",
        "J^{T}\\cdot \\vec{v} = \\left(\\begin{array}{ccc}\n",
        " \\frac{\\partial y_{1}}{\\partial x_{1}} & \\cdots & \\frac{\\partial y_{m}}{\\partial x_{1}}\\\\\n",
        " \\vdots & \\ddots & \\vdots\\\\\n",
        " \\frac{\\partial y_{1}}{\\partial x_{n}} & \\cdots & \\frac{\\partial y_{m}}{\\partial x_{n}}\n",
        " \\end{array}\\right)\\left(\\begin{array}{c}\n",
        " \\frac{\\partial l}{\\partial y_{1}}\\\\\n",
        " \\vdots\\\\\n",
        " \\frac{\\partial l}{\\partial y_{m}}\n",
        " \\end{array}\\right) = \\left(\\begin{array}{c}\n",
        " \\frac{\\partial l}{\\partial x_{1}}\\\\\n",
        " \\vdots\\\\\n",
        " \\frac{\\partial l}{\\partial x_{n}}\n",
        " \\end{array}\\right)\n",
        "\\end{aligned}$$\n",
        "\n",
        "This characteristic of vector-Jacobian product is what we use in the\n",
        "above example; `external_grad` represents $\\vec{v}$.\n"
      ]
    },
    {
      "cell_type": "markdown",
      "metadata": {
        "id": "LbEDjal6wG2L"
      },
      "source": [
        "Computational Graph\n",
        "===================\n",
        "\n",
        "Conceptually, autograd keeps a record of data (tensors) & all executed\n",
        "operations (along with the resulting new tensors) in a directed acyclic\n",
        "graph (DAG) consisting of\n",
        "[Function](https://pytorch.org/docs/stable/autograd.html#torch.autograd.Function)\n",
        "objects. In this DAG, leaves are the input tensors, roots are the output\n",
        "tensors. By tracing this graph from roots to leaves, you can\n",
        "automatically compute the gradients using the chain rule.\n",
        "\n",
        "In a forward pass, autograd does two things simultaneously:\n",
        "\n",
        "-   run the requested operation to compute a resulting tensor, and\n",
        "-   maintain the operation's *gradient function* in the DAG.\n",
        "\n",
        "The backward pass kicks off when `.backward()` is called on the DAG\n",
        "root. `autograd` then:\n",
        "\n",
        "-   computes the gradients from each `.grad_fn`,\n",
        "-   accumulates them in the respective tensor's `.grad` attribute, and\n",
        "-   using the chain rule, propagates all the way to the leaf tensors.\n",
        "\n",
        "Below is a visual representation of the DAG in our example. In the\n",
        "graph, the arrows are in the direction of the forward pass. The nodes\n",
        "represent the backward functions of each operation in the forward pass.\n",
        "The leaf nodes in blue represent our leaf tensors `a` and `b`.\n",
        "\n",
        "![](https://pytorch.org/tutorials/_static/img/dag_autograd.png)\n",
        "\n",
        "<div style=\"background-color: #54c7ec; color: #fff; font-weight: 700; padding-left: 10px; padding-top: 5px; padding-bottom: 5px\"><strong>NOTE:</strong></div>\n",
        "\n",
        "<div style=\"background-color: #f3f4f7; padding-left: 10px; padding-top: 10px; padding-bottom: 10px; padding-right: 10px\">\n",
        "\n",
        "<p>An important thing to note is that the graph is recreated from scratch; after each<code>.backward()</code> call, autograd starts populating a new graph. This isexactly what allows you to use control flow statements in your model;you can change the shape, size and operations at every iteration ifneeded.</p>\n",
        "\n",
        "</div>\n",
        "\n",
        "Exclusion from the DAG\n",
        "----------------------\n",
        "\n",
        "`torch.autograd` tracks operations on all tensors which have their\n",
        "`requires_grad` flag set to `True`. For tensors that don't require\n",
        "gradients, setting this attribute to `False` excludes it from the\n",
        "gradient computation DAG.\n",
        "\n",
        "The output tensor of an operation will require gradients even if only a\n",
        "single input tensor has `requires_grad=True`.\n"
      ]
    },
    {
      "cell_type": "code",
      "execution_count": 63,
      "metadata": {
        "id": "lUyA0fwWwG2M",
        "outputId": "b5d1ab3f-7a57-43ad-d281-0158b6a323d0",
        "colab": {
          "base_uri": "https://localhost:8080/"
        }
      },
      "outputs": [
        {
          "output_type": "stream",
          "name": "stdout",
          "text": [
            "Does `a` require gradients?: False\n",
            "Does `b` require gradients?: True\n"
          ]
        }
      ],
      "source": [
        "x = torch.rand(5, 5)\n",
        "y = torch.rand(5, 5)\n",
        "z = torch.rand((5, 5), requires_grad=True)\n",
        "\n",
        "a = x + y\n",
        "print(f\"Does `a` require gradients?: {a.requires_grad}\")\n",
        "b = x + z\n",
        "print(f\"Does `b` require gradients?: {b.requires_grad}\")"
      ]
    },
    {
      "cell_type": "markdown",
      "metadata": {
        "id": "DF6pTLyXwG2M"
      },
      "source": [
        "In a NN, parameters that don\\'t compute gradients are usually called\n",
        "**frozen parameters**. It is useful to \\\"freeze\\\" part of your model if\n",
        "you know in advance that you won\\'t need the gradients of those\n",
        "parameters (this offers some performance benefits by reducing autograd\n",
        "computations).\n",
        "\n",
        "In finetuning, we freeze most of the model and typically only modify the\n",
        "classifier layers to make predictions on new labels. Let\\'s walk through\n",
        "a small example to demonstrate this. As before, we load a pretrained\n",
        "resnet18 model, and freeze all the parameters.\n"
      ]
    },
    {
      "cell_type": "code",
      "execution_count": 64,
      "metadata": {
        "id": "LO-8PblnwG2M"
      },
      "outputs": [],
      "source": [
        "from torch import nn, optim\n",
        "\n",
        "model = resnet18(weights=ResNet18_Weights.DEFAULT)\n",
        "\n",
        "# Freeze all the parameters in the network\n",
        "for param in model.parameters():\n",
        "    param.requires_grad = False"
      ]
    },
    {
      "cell_type": "markdown",
      "metadata": {
        "id": "yah0OlhTwG2N"
      },
      "source": [
        "Let\\'s say we want to finetune the model on a new dataset with 10\n",
        "labels. In resnet, the classifier is the last linear layer `model.fc`.\n",
        "We can simply replace it with a new linear layer (unfrozen by default)\n",
        "that acts as our classifier.\n"
      ]
    },
    {
      "cell_type": "code",
      "execution_count": 65,
      "metadata": {
        "id": "P5nG7hcIwG2N"
      },
      "outputs": [],
      "source": [
        "model.fc = nn.Linear(512, 10)"
      ]
    },
    {
      "cell_type": "markdown",
      "metadata": {
        "id": "uu0LVzokwG2N"
      },
      "source": [
        "Now all parameters in the model, except the parameters of `model.fc`,\n",
        "are frozen. The only parameters that compute gradients are the weights\n",
        "and bias of `model.fc`.\n"
      ]
    },
    {
      "cell_type": "code",
      "execution_count": 66,
      "metadata": {
        "id": "opxlSHijwG2N"
      },
      "outputs": [],
      "source": [
        "# Optimize only the classifier\n",
        "optimizer = optim.SGD(model.parameters(), lr=1e-2, momentum=0.9)"
      ]
    },
    {
      "cell_type": "markdown",
      "metadata": {
        "id": "1780cFWkwG2N"
      },
      "source": [
        "Notice although we register all the parameters in the optimizer, the\n",
        "only parameters that are computing gradients (and hence updated in\n",
        "gradient descent) are the weights and bias of the classifier.\n",
        "\n",
        "The same exclusionary functionality is available as a context manager in\n",
        "[torch.no\\_grad()](https://pytorch.org/docs/stable/generated/torch.no_grad.html)\n"
      ]
    },
    {
      "cell_type": "markdown",
      "metadata": {
        "id": "FPrFDJbrwG2O"
      },
      "source": [
        "------------------------------------------------------------------------\n"
      ]
    },
    {
      "cell_type": "markdown",
      "metadata": {
        "id": "-ehQOquPwG2O"
      },
      "source": [
        "Further readings:\n",
        "=================\n",
        "\n",
        "-   [In-place operations & Multithreaded\n",
        "    Autograd](https://pytorch.org/docs/stable/notes/autograd.html)\n",
        "-   [Example implementation of reverse-mode\n",
        "    autodiff](https://colab.research.google.com/drive/1VpeE6UvEPRz9HmsHh1KS0XxXjYu533EC)\n",
        "-   [Video: PyTorch Autograd Explained - In-depth\n",
        "    Tutorial](https://www.youtube.com/watch?v=MswxJw-8PvE)\n"
      ]
    }
  ],
  "metadata": {
    "kernelspec": {
      "display_name": "Python 3",
      "language": "python",
      "name": "python3"
    },
    "language_info": {
      "codemirror_mode": {
        "name": "ipython",
        "version": 3
      },
      "file_extension": ".py",
      "mimetype": "text/x-python",
      "name": "python",
      "nbconvert_exporter": "python",
      "pygments_lexer": "ipython3",
      "version": "3.10.12"
    },
    "colab": {
      "provenance": [],
      "include_colab_link": true
    }
  },
  "nbformat": 4,
  "nbformat_minor": 0
}